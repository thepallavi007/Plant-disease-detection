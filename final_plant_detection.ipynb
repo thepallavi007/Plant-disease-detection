{
 "cells": [
  {
   "cell_type": "code",
   "execution_count": 1,
   "id": "cc6db39c",
   "metadata": {},
   "outputs": [
    {
     "name": "stdout",
     "output_type": "stream",
     "text": [
      "Requirement already satisfied: tensorflow in c:\\users\\thepv\\anaconda3\\lib\\site-packages (2.15.0)\n",
      "Requirement already satisfied: tensorflow-intel==2.15.0 in c:\\users\\thepv\\anaconda3\\lib\\site-packages (from tensorflow) (2.15.0)\n",
      "Requirement already satisfied: tensorboard<2.16,>=2.15 in c:\\users\\thepv\\anaconda3\\lib\\site-packages (from tensorflow-intel==2.15.0->tensorflow) (2.15.1)\n",
      "Requirement already satisfied: tensorflow-io-gcs-filesystem>=0.23.1 in c:\\users\\thepv\\anaconda3\\lib\\site-packages (from tensorflow-intel==2.15.0->tensorflow) (0.31.0)\n",
      "Requirement already satisfied: libclang>=13.0.0 in c:\\users\\thepv\\anaconda3\\lib\\site-packages (from tensorflow-intel==2.15.0->tensorflow) (16.0.6)\n",
      "Requirement already satisfied: wrapt<1.15,>=1.11.0 in c:\\users\\thepv\\anaconda3\\lib\\site-packages (from tensorflow-intel==2.15.0->tensorflow) (1.14.1)\n",
      "Requirement already satisfied: google-pasta>=0.1.1 in c:\\users\\thepv\\anaconda3\\lib\\site-packages (from tensorflow-intel==2.15.0->tensorflow) (0.2.0)\n",
      "Requirement already satisfied: tensorflow-estimator<2.16,>=2.15.0 in c:\\users\\thepv\\anaconda3\\lib\\site-packages (from tensorflow-intel==2.15.0->tensorflow) (2.15.0)\n",
      "Requirement already satisfied: six>=1.12.0 in c:\\users\\thepv\\anaconda3\\lib\\site-packages (from tensorflow-intel==2.15.0->tensorflow) (1.16.0)\n",
      "Requirement already satisfied: flatbuffers>=23.5.26 in c:\\users\\thepv\\anaconda3\\lib\\site-packages (from tensorflow-intel==2.15.0->tensorflow) (23.5.26)\n",
      "Requirement already satisfied: astunparse>=1.6.0 in c:\\users\\thepv\\anaconda3\\lib\\site-packages (from tensorflow-intel==2.15.0->tensorflow) (1.6.3)\n",
      "Requirement already satisfied: termcolor>=1.1.0 in c:\\users\\thepv\\anaconda3\\lib\\site-packages (from tensorflow-intel==2.15.0->tensorflow) (2.4.0)\n",
      "Requirement already satisfied: opt-einsum>=2.3.2 in c:\\users\\thepv\\anaconda3\\lib\\site-packages (from tensorflow-intel==2.15.0->tensorflow) (3.3.0)\n",
      "Requirement already satisfied: protobuf!=4.21.0,!=4.21.1,!=4.21.2,!=4.21.3,!=4.21.4,!=4.21.5,<5.0.0dev,>=3.20.3 in c:\\users\\thepv\\anaconda3\\lib\\site-packages (from tensorflow-intel==2.15.0->tensorflow) (4.23.4)\n",
      "Requirement already satisfied: grpcio<2.0,>=1.24.3 in c:\\users\\thepv\\anaconda3\\lib\\site-packages (from tensorflow-intel==2.15.0->tensorflow) (1.59.3)\n",
      "Requirement already satisfied: packaging in c:\\users\\thepv\\anaconda3\\lib\\site-packages (from tensorflow-intel==2.15.0->tensorflow) (21.3)\n",
      "Requirement already satisfied: keras<2.16,>=2.15.0 in c:\\users\\thepv\\anaconda3\\lib\\site-packages (from tensorflow-intel==2.15.0->tensorflow) (2.15.0)\n",
      "Requirement already satisfied: typing-extensions>=3.6.6 in c:\\users\\thepv\\anaconda3\\lib\\site-packages (from tensorflow-intel==2.15.0->tensorflow) (4.9.0)\n",
      "Requirement already satisfied: gast!=0.5.0,!=0.5.1,!=0.5.2,>=0.2.1 in c:\\users\\thepv\\anaconda3\\lib\\site-packages (from tensorflow-intel==2.15.0->tensorflow) (0.5.4)\n",
      "Requirement already satisfied: absl-py>=1.0.0 in c:\\users\\thepv\\anaconda3\\lib\\site-packages (from tensorflow-intel==2.15.0->tensorflow) (2.0.0)\n",
      "Requirement already satisfied: ml-dtypes~=0.2.0 in c:\\users\\thepv\\anaconda3\\lib\\site-packages (from tensorflow-intel==2.15.0->tensorflow) (0.2.0)\n",
      "Requirement already satisfied: numpy<2.0.0,>=1.23.5 in c:\\users\\thepv\\anaconda3\\lib\\site-packages (from tensorflow-intel==2.15.0->tensorflow) (1.26.2)\n",
      "Requirement already satisfied: h5py>=2.9.0 in c:\\users\\thepv\\anaconda3\\lib\\site-packages (from tensorflow-intel==2.15.0->tensorflow) (3.7.0)\n",
      "Requirement already satisfied: setuptools in c:\\users\\thepv\\anaconda3\\lib\\site-packages (from tensorflow-intel==2.15.0->tensorflow) (63.4.1)\n",
      "Requirement already satisfied: wheel<1.0,>=0.23.0 in c:\\users\\thepv\\anaconda3\\lib\\site-packages (from astunparse>=1.6.0->tensorflow-intel==2.15.0->tensorflow) (0.37.1)\n",
      "Requirement already satisfied: tensorboard-data-server<0.8.0,>=0.7.0 in c:\\users\\thepv\\anaconda3\\lib\\site-packages (from tensorboard<2.16,>=2.15->tensorflow-intel==2.15.0->tensorflow) (0.7.2)\n",
      "Requirement already satisfied: google-auth<3,>=1.6.3 in c:\\users\\thepv\\anaconda3\\lib\\site-packages (from tensorboard<2.16,>=2.15->tensorflow-intel==2.15.0->tensorflow) (2.24.0)\n",
      "Requirement already satisfied: werkzeug>=1.0.1 in c:\\users\\thepv\\anaconda3\\lib\\site-packages (from tensorboard<2.16,>=2.15->tensorflow-intel==2.15.0->tensorflow) (2.0.3)\n",
      "Requirement already satisfied: google-auth-oauthlib<2,>=0.5 in c:\\users\\thepv\\anaconda3\\lib\\site-packages (from tensorboard<2.16,>=2.15->tensorflow-intel==2.15.0->tensorflow) (1.1.0)\n",
      "Requirement already satisfied: markdown>=2.6.8 in c:\\users\\thepv\\anaconda3\\lib\\site-packages (from tensorboard<2.16,>=2.15->tensorflow-intel==2.15.0->tensorflow) (3.3.4)\n",
      "Requirement already satisfied: requests<3,>=2.21.0 in c:\\users\\thepv\\anaconda3\\lib\\site-packages (from tensorboard<2.16,>=2.15->tensorflow-intel==2.15.0->tensorflow) (2.28.1)\n",
      "Requirement already satisfied: pyparsing!=3.0.5,>=2.0.2 in c:\\users\\thepv\\anaconda3\\lib\\site-packages (from packaging->tensorflow-intel==2.15.0->tensorflow) (3.0.9)\n",
      "Requirement already satisfied: pyasn1-modules>=0.2.1 in c:\\users\\thepv\\anaconda3\\lib\\site-packages (from google-auth<3,>=1.6.3->tensorboard<2.16,>=2.15->tensorflow-intel==2.15.0->tensorflow) (0.2.8)\n",
      "Requirement already satisfied: rsa<5,>=3.1.4 in c:\\users\\thepv\\anaconda3\\lib\\site-packages (from google-auth<3,>=1.6.3->tensorboard<2.16,>=2.15->tensorflow-intel==2.15.0->tensorflow) (4.9)\n",
      "Requirement already satisfied: cachetools<6.0,>=2.0.0 in c:\\users\\thepv\\anaconda3\\lib\\site-packages (from google-auth<3,>=1.6.3->tensorboard<2.16,>=2.15->tensorflow-intel==2.15.0->tensorflow) (5.3.2)\n",
      "Requirement already satisfied: requests-oauthlib>=0.7.0 in c:\\users\\thepv\\anaconda3\\lib\\site-packages (from google-auth-oauthlib<2,>=0.5->tensorboard<2.16,>=2.15->tensorflow-intel==2.15.0->tensorflow) (1.3.1)\n",
      "Requirement already satisfied: urllib3<1.27,>=1.21.1 in c:\\users\\thepv\\anaconda3\\lib\\site-packages (from requests<3,>=2.21.0->tensorboard<2.16,>=2.15->tensorflow-intel==2.15.0->tensorflow) (1.26.11)\n",
      "Requirement already satisfied: charset-normalizer<3,>=2 in c:\\users\\thepv\\anaconda3\\lib\\site-packages (from requests<3,>=2.21.0->tensorboard<2.16,>=2.15->tensorflow-intel==2.15.0->tensorflow) (2.0.4)\n",
      "Requirement already satisfied: certifi>=2017.4.17 in c:\\users\\thepv\\anaconda3\\lib\\site-packages (from requests<3,>=2.21.0->tensorboard<2.16,>=2.15->tensorflow-intel==2.15.0->tensorflow) (2022.9.14)\n",
      "Requirement already satisfied: idna<4,>=2.5 in c:\\users\\thepv\\anaconda3\\lib\\site-packages (from requests<3,>=2.21.0->tensorboard<2.16,>=2.15->tensorflow-intel==2.15.0->tensorflow) (3.3)\n",
      "Requirement already satisfied: pyasn1<0.5.0,>=0.4.6 in c:\\users\\thepv\\anaconda3\\lib\\site-packages (from pyasn1-modules>=0.2.1->google-auth<3,>=1.6.3->tensorboard<2.16,>=2.15->tensorflow-intel==2.15.0->tensorflow) (0.4.8)\n",
      "Requirement already satisfied: oauthlib>=3.0.0 in c:\\users\\thepv\\anaconda3\\lib\\site-packages (from requests-oauthlib>=0.7.0->google-auth-oauthlib<2,>=0.5->tensorboard<2.16,>=2.15->tensorflow-intel==2.15.0->tensorflow) (3.2.2)\n",
      "Note: you may need to restart the kernel to use updated packages.\n"
     ]
    },
    {
     "name": "stderr",
     "output_type": "stream",
     "text": [
      "WARNING: There was an error checking the latest version of pip.\n"
     ]
    }
   ],
   "source": [
    "pip install tensorflow"
   ]
  },
  {
   "cell_type": "code",
   "execution_count": 2,
   "id": "416f2b1d",
   "metadata": {},
   "outputs": [
    {
     "name": "stdout",
     "output_type": "stream",
     "text": [
      "Requirement already satisfied: keras in c:\\users\\thepv\\anaconda3\\lib\\site-packages (2.15.0)\n",
      "Note: you may need to restart the kernel to use updated packages.\n"
     ]
    },
    {
     "name": "stderr",
     "output_type": "stream",
     "text": [
      "WARNING: There was an error checking the latest version of pip.\n"
     ]
    }
   ],
   "source": [
    "pip install keras"
   ]
  },
  {
   "cell_type": "code",
   "execution_count": 3,
   "id": "5b50b917",
   "metadata": {},
   "outputs": [
    {
     "name": "stderr",
     "output_type": "stream",
     "text": [
      "C:\\Users\\thepv\\anaconda3\\lib\\site-packages\\scipy\\__init__.py:155: UserWarning: A NumPy version >=1.18.5 and <1.25.0 is required for this version of SciPy (detected version 1.26.2\n",
      "  warnings.warn(f\"A NumPy version >={np_minversion} and <{np_maxversion}\"\n"
     ]
    },
    {
     "name": "stdout",
     "output_type": "stream",
     "text": [
      "WARNING:tensorflow:From C:\\Users\\thepv\\anaconda3\\lib\\site-packages\\keras\\src\\losses.py:2976: The name tf.losses.sparse_softmax_cross_entropy is deprecated. Please use tf.compat.v1.losses.sparse_softmax_cross_entropy instead.\n",
      "\n"
     ]
    }
   ],
   "source": [
    "import os\n",
    "import numpy as np\n",
    "import tkinter as tk\n",
    "from tkinter import filedialog\n",
    "from PIL import Image, ImageTk\n",
    "from keras.preprocessing.image import ImageDataGenerator, img_to_array, load_img\n",
    "from keras.applications.vgg19 import VGG19, preprocess_input\n",
    "from keras.layers import Dense, Flatten\n",
    "from keras.models import Model\n",
    "from keras.callbacks import ModelCheckpoint, EarlyStopping\n",
    "from keras.models import load_model"
   ]
  },
  {
   "cell_type": "code",
   "execution_count": 4,
   "id": "fad85344",
   "metadata": {},
   "outputs": [],
   "source": [
    "################ Function to load and preprocess an image for prediction\n",
    "def preprocess_image(image_path):\n",
    "    img = load_img(image_path, target_size=(256, 256))\n",
    "    img_array = img_to_array(img)\n",
    "    img_array = preprocess_input(img_array)\n",
    "    img_array = np.expand_dims(img_array, axis=0)\n",
    "    return img_array\n"
   ]
  },
  {
   "cell_type": "code",
   "execution_count": 5,
   "id": "17c68414",
   "metadata": {},
   "outputs": [],
   "source": [
    "################ Function to predict disease given an image path\n",
    "def predict_disease(image_path):\n",
    "    img_array = preprocess_image(image_path)\n",
    "    prediction = model.predict(img_array)\n",
    "    class_index = np.argmax(prediction)\n",
    "    class_label = class_indices_reverse[class_index]\n",
    "    confidence = prediction[0, class_index]\n",
    "    \n",
    "    print(f\"Prediction: {class_label}, Confidence: {confidence}\")\n",
    "    return class_label"
   ]
  },
  {
   "cell_type": "code",
   "execution_count": 6,
   "id": "70de4f5b",
   "metadata": {},
   "outputs": [],
   "source": [
    "#############  path for dataset directory\n",
    "dataset_path = \"C:/Users/thepv/Downloads/archive (2)/New Plant Diseases Dataset(Augmented)/New Plant Diseases Dataset(Augmented)\""
   ]
  },
  {
   "cell_type": "code",
   "execution_count": 7,
   "id": "3691c68d",
   "metadata": {},
   "outputs": [
    {
     "name": "stdout",
     "output_type": "stream",
     "text": [
      "Found 57421 images belonging to 32 classes.\n"
     ]
    }
   ],
   "source": [
    "################ Create data generators\n",
    "train_datagen = ImageDataGenerator(\n",
    "    zoom_range=0.5,\n",
    "    shear_range=0.3,\n",
    "    horizontal_flip=True,\n",
    "    preprocessing_function=preprocess_input\n",
    ")\n",
    "\n",
    "train_generator = train_datagen.flow_from_directory(\n",
    "    directory=os.path.join(dataset_path, \"train\"),\n",
    "    target_size=(256, 256),\n",
    "    batch_size=32\n",
    ")"
   ]
  },
  {
   "cell_type": "code",
   "execution_count": 8,
   "id": "5dcdeca3",
   "metadata": {},
   "outputs": [
    {
     "name": "stdout",
     "output_type": "stream",
     "text": [
      "WARNING:tensorflow:From C:\\Users\\thepv\\anaconda3\\lib\\site-packages\\keras\\src\\backend.py:1398: The name tf.executing_eagerly_outside_functions is deprecated. Please use tf.compat.v1.executing_eagerly_outside_functions instead.\n",
      "\n",
      "WARNING:tensorflow:From C:\\Users\\thepv\\anaconda3\\lib\\site-packages\\keras\\src\\layers\\pooling\\max_pooling2d.py:161: The name tf.nn.max_pool is deprecated. Please use tf.nn.max_pool2d instead.\n",
      "\n"
     ]
    }
   ],
   "source": [
    "############ model training\n",
    "\n",
    "# Load the model and class indices\n",
    "model = load_model(\"C:/Users/thepv/Downloads/archive (2)/New Plant Diseases Dataset(Augmented)/New Plant Diseases Dataset(Augmented)/best_model.h5\")\n",
    "class_indices_reverse = dict(zip(train_generator.class_indices.values(), train_generator.class_indices.keys()))"
   ]
  },
  {
   "cell_type": "code",
   "execution_count": 9,
   "id": "51e50503",
   "metadata": {},
   "outputs": [
    {
     "name": "stderr",
     "output_type": "stream",
     "text": [
      "C:\\Users\\thepv\\AppData\\Local\\Temp\\ipykernel_10132\\1798668796.py:43: DeprecationWarning: ANTIALIAS is deprecated and will be removed in Pillow 10 (2023-07-01). Use Resampling.LANCZOS instead.\n",
      "  img = img.resize((300, 300), Image.ANTIALIAS)\n"
     ]
    },
    {
     "name": "stdout",
     "output_type": "stream",
     "text": [
      "1/1 [==============================] - 1s 629ms/step\n",
      "Prediction: Potato___Early_blight, Confidence: 0.9999988079071045\n"
     ]
    }
   ],
   "source": [
    "\n",
    "############################# create GUI\n",
    "class PlantDiseaseClassifierGUI:\n",
    "    def __init__(self, root):\n",
    "        self.root = root\n",
    "        self.root.title(\"Plant Disease Classifier\")\n",
    "\n",
    "        # configure the Frame\n",
    "        self.frame = tk.Frame(self.root, padx=200, pady=200)\n",
    "        self.frame.pack()\n",
    "\n",
    "        # Buttons\n",
    "        self.browse_image_button = tk.Button(self.frame, text=\"Browse Image\", command=self.browse_image)\n",
    "        self.browse_image_button.pack(side=tk.LEFT)\n",
    "\n",
    "        self.browse_directory_button = tk.Button(self.frame, text=\"Browse Directory\", command=self.browse_directory)\n",
    "        self.browse_directory_button.pack(side=tk.LEFT)\n",
    "\n",
    "        self.predict_button = tk.Button(self.frame, text=\"Predict\", command=self.predict_image)\n",
    "        self.predict_button.pack(side=tk.RIGHT)\n",
    "\n",
    "        self.clear_button = tk.Button(self.frame, text=\"Clear\", command=self.clear_result)\n",
    "        self.clear_button.pack(side=tk.RIGHT)\n",
    "\n",
    "        # Label to display the prediction result\n",
    "        self.result_label = tk.Label(self.root, text=\"\")\n",
    "        self.result_label.pack()\n",
    "\n",
    "        # Initialize the image label\n",
    "        self.image_label = tk.Label(self.root)\n",
    "        \n",
    "        # Placeholder for image path\n",
    "        self.image_path = None\n",
    "\n",
    "    def browse_image(self):\n",
    "        file_path = filedialog.askopenfilename(filetypes=[(\"Image files\", \".png;*.jpg;*.jpeg\")])\n",
    "\n",
    "        if file_path:\n",
    "            self.image_path = file_path\n",
    "\n",
    "            # Display the selected image on the GUI\n",
    "            try:\n",
    "                img = Image.open(self.image_path)\n",
    "                img = img.resize((300, 300), Image.ANTIALIAS)\n",
    "                img = ImageTk.PhotoImage(img)\n",
    "                self.image_label.config(image=img)\n",
    "                self.image_label.image = img\n",
    "                self.image_label.pack()\n",
    "\n",
    "            except Exception as e:\n",
    "                # Handle the exception, for example, display an error message\n",
    "                self.result_label.config(text=f\"Error opening image: {str(e)}\")\n",
    "        else:\n",
    "            self.result_label.config(text=\"No image selected\")\n",
    "\n",
    "\n",
    "    def browse_directory(self):\n",
    "        directory_path = filedialog.askdirectory()\n",
    "        self.image_path = directory_path\n",
    "        self.result_label.config(text=\"Selected directory: \" + directory_path)\n",
    "\n",
    "    def predict_image(self):\n",
    "        if self.image_path:\n",
    "            if os.path.isfile(self.image_path):\n",
    "                prediction = predict_disease(self.image_path)  # You need to implement predict_disease function\n",
    "                self.result_label.config(text=f\"The image belongs to {prediction}\")\n",
    "            elif os.path.isdir(self.image_path):\n",
    "                self.result_label.config(text=\"Predicting diseases in the directory...\")\n",
    "                self.predict_directory()\n",
    "            else:\n",
    "                self.result_label.config(text=\"Please select a valid image or directory.\")\n",
    "        else:\n",
    "            self.result_label.config(text=\"Please select an image or directory first.\")\n",
    "\n",
    "    def predict_directory(self):\n",
    "        # Get the list of images in the directory\n",
    "        images = [f for f in os.listdir(self.image_path) if os.path.isfile(os.path.join(self.image_path, f))]\n",
    "\n",
    "        for image_name in images:\n",
    "            image_path = os.path.join(self.image_path, image_name)\n",
    "            prediction = predict_disease(image_path)  # You need to implement predict_disease function\n",
    "            print(f\"The image {image_name} belongs to {prediction}\")\n",
    "\n",
    "        self.result_label.config(text=\"Prediction complete.\")\n",
    "\n",
    "    def clear_result(self):\n",
    "        self.image_label.pack_forget()\n",
    "        self.result_label.config(text=\"\")\n",
    "        self.image_path = None\n",
    "\n",
    "# Tkinter GUI\n",
    "import tkinter as tk\n",
    "root = tk.Tk()\n",
    "app = PlantDiseaseClassifierGUI(root)\n",
    "root.mainloop()"
   ]
  },
  {
   "cell_type": "code",
   "execution_count": null,
   "id": "a1fd2164",
   "metadata": {},
   "outputs": [],
   "source": []
  },
  {
   "cell_type": "code",
   "execution_count": null,
   "id": "33448fa2",
   "metadata": {},
   "outputs": [],
   "source": []
  }
 ],
 "metadata": {
  "kernelspec": {
   "display_name": "Python 3 (ipykernel)",
   "language": "python",
   "name": "python3"
  },
  "language_info": {
   "codemirror_mode": {
    "name": "ipython",
    "version": 3
   },
   "file_extension": ".py",
   "mimetype": "text/x-python",
   "name": "python",
   "nbconvert_exporter": "python",
   "pygments_lexer": "ipython3",
   "version": "3.9.13"
  }
 },
 "nbformat": 4,
 "nbformat_minor": 5
}
